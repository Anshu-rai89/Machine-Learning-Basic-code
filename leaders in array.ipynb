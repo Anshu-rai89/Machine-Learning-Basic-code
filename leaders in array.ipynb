{
 "cells": [
  {
   "cell_type": "code",
   "execution_count": 42,
   "metadata": {},
   "outputs": [
    {
     "name": "stdout",
     "output_type": "stream",
     "text": [
      "4\n",
      "1 2 3 4\n",
      "4 "
     ]
    }
   ],
   "source": [
    "def leaders(arr, size): \n",
    "    max_from_right=arr[n-1]\n",
    "    k=0\n",
    "    l1 = [arr[size-1] ] \n",
    "    k+=1\n",
    "    for i in range( size-2, -1, -1):         \n",
    "        if max_from_right < arr[i]:             \n",
    "            l1+=[arr[i]]\n",
    "            k+=1\n",
    "            max_from_right = arr[i]\n",
    "    for i in range(k-1,-1,-1):\n",
    "        print(l1[i],end=\" \")\n",
    "            \n",
    "n=int(input())\n",
    "l=[int(x) for x in input().strip().split(\" \")]\n",
    "leaders(l,n)\n",
    "\n",
    "\n",
    "\n",
    "\n"
   ]
  },
  {
   "cell_type": "code",
   "execution_count": null,
   "metadata": {},
   "outputs": [],
   "source": [
    "s=input()\n",
    "s.split(\" \")\n",
    "print(s)"
   ]
  }
 ],
 "metadata": {
  "kernelspec": {
   "display_name": "Python 3",
   "language": "python",
   "name": "python3"
  },
  "language_info": {
   "codemirror_mode": {
    "name": "ipython",
    "version": 3
   },
   "file_extension": ".py",
   "mimetype": "text/x-python",
   "name": "python",
   "nbconvert_exporter": "python",
   "pygments_lexer": "ipython3",
   "version": "3.7.1"
  }
 },
 "nbformat": 4,
 "nbformat_minor": 2
}
