{
 "cells": [
  {
   "cell_type": "code",
   "execution_count": 1,
   "metadata": {},
   "outputs": [],
   "source": [
    "import pandas as pd\n",
    "import numpy as np"
   ]
  },
  {
   "cell_type": "code",
   "execution_count": 2,
   "metadata": {},
   "outputs": [],
   "source": [
    "data=np.genfromtxt('0000000000002329_training_diabetes_x_y_train.csv',delimiter=',')\n",
    "x_train=data[: ,:10]\n",
    "y_train=data[:,10:11]\n"
   ]
  },
  {
   "cell_type": "code",
   "execution_count": 3,
   "metadata": {},
   "outputs": [
    {
     "name": "stdout",
     "output_type": "stream",
     "text": [
      "[[-0.04910502 -0.04464164  0.16085492 ...  0.03430886  0.02801651\n",
      "   0.01134862]\n",
      " [-0.07090025  0.05068012 -0.08919748 ... -0.00259226 -0.01290794\n",
      "  -0.05492509]\n",
      " [ 0.00175052 -0.04464164 -0.07087468 ... -0.03949338 -0.02251217\n",
      "   0.00720652]\n",
      " ...\n",
      " [ 0.02354575 -0.04464164  0.0703187  ... -0.00259226 -0.01919705\n",
      "  -0.00936191]\n",
      " [ 0.01628068  0.05068012  0.07247433 ... -0.00259226 -0.02364456\n",
      "   0.06105391]\n",
      " [-0.00914709  0.05068012 -0.03099563 ... -0.00259226  0.00620932\n",
      "   0.02791705]]\n"
     ]
    }
   ],
   "source": [
    "test_data=np.genfromtxt('x_test.csv',delimiter=',')\n",
    "x_test=test_data\n",
    "print(x_train)"
   ]
  },
  {
   "cell_type": "code",
   "execution_count": null,
   "metadata": {},
   "outputs": [],
   "source": [
    "\n"
   ]
  },
  {
   "cell_type": "code",
   "execution_count": null,
   "metadata": {},
   "outputs": [],
   "source": []
  },
  {
   "cell_type": "code",
   "execution_count": null,
   "metadata": {},
   "outputs": [],
   "source": []
  },
  {
   "cell_type": "code",
   "execution_count": 43,
   "metadata": {},
   "outputs": [],
   "source": [
    "from sklearn.linear_model import LinearRegression"
   ]
  },
  {
   "cell_type": "code",
   "execution_count": 93,
   "metadata": {},
   "outputs": [],
   "source": [
    "algo1=LinearRegression()\n",
    "algo1.fit(x_train,y_train)\n",
    "y_pred=algo1.predict(x_train)\n",
    "score(y_pred,y)"
   ]
  },
  {
   "cell_type": "code",
   "execution_count": null,
   "metadata": {},
   "outputs": [],
   "source": []
  },
  {
   "cell_type": "code",
   "execution_count": null,
   "metadata": {},
   "outputs": [],
   "source": []
  }
 ],
 "metadata": {
  "kernelspec": {
   "display_name": "Python 3",
   "language": "python",
   "name": "python3"
  },
  "language_info": {
   "codemirror_mode": {
    "name": "ipython",
    "version": 3
   },
   "file_extension": ".py",
   "mimetype": "text/x-python",
   "name": "python",
   "nbconvert_exporter": "python",
   "pygments_lexer": "ipython3",
   "version": "3.7.1"
  }
 },
 "nbformat": 4,
 "nbformat_minor": 2
}
