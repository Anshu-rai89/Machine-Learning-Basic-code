{
 "cells": [
  {
   "cell_type": "code",
   "execution_count": 46,
   "metadata": {},
   "outputs": [
    {
     "name": "stdout",
     "output_type": "stream",
     "text": [
      "4 3\n",
      "1 2 3 4 5 6 7 8 9 10 11 12\n",
      "row 3 33\n"
     ]
    }
   ],
   "source": [
    "st=input().strip().split(\" \")\n",
    "m=int(st[0])\n",
    "n=int(st[1])\n",
    "l=[int(i) for i in input().strip().split(\" \")]\n",
    "l1=[[l[i*n+j] for j in range (n)]for i in range (m)]\n",
    "k,p=0,0\n",
    "sum1,sum2,r,c,res1,res2=0,0,0,0,0,0\n",
    "while k<n :\n",
    "    for i in range(m):\n",
    "        sum1=sum1+l1[i][k]\n",
    "    if sum1>res1 :\n",
    "        res1=sum1\n",
    "        r=k\n",
    "        sum1=0\n",
    "    k+=1\n",
    "while p<m :\n",
    "    for j in range(n):\n",
    "        sum2=sum2+l1[p][j]\n",
    "    if sum2>res2 :\n",
    "        res2=sum2\n",
    "        c=p\n",
    "    sum2=0\n",
    "    p+=1\n",
    "if res1>res2 :\n",
    "    print(\"column\",r,end=\" \")\n",
    "    print(res1)\n",
    "else :\n",
    "    print(\"row\",c,end=\" \")\n",
    "    print(res2)\n",
    "\n",
    "    "
   ]
  },
  {
   "cell_type": "code",
   "execution_count": null,
   "metadata": {},
   "outputs": [],
   "source": []
  },
  {
   "cell_type": "code",
   "execution_count": 48,
   "metadata": {},
   "outputs": [
    {
     "name": "stdout",
     "output_type": "stream",
     "text": [
      "2 2 1 2 3 4\n"
     ]
    },
    {
     "ename": "IndexError",
     "evalue": "list index out of range",
     "output_type": "error",
     "traceback": [
      "\u001b[1;31m---------------------------------------------------------------------------\u001b[0m",
      "\u001b[1;31mIndexError\u001b[0m                                Traceback (most recent call last)",
      "\u001b[1;32m<ipython-input-48-469bd2975576>\u001b[0m in \u001b[0;36m<module>\u001b[1;34m\u001b[0m\n\u001b[0;32m     10\u001b[0m \u001b[1;32mwhile\u001b[0m \u001b[0mstrrow\u001b[0m\u001b[1;33m<\u001b[0m\u001b[0mendrow\u001b[0m \u001b[1;32mand\u001b[0m \u001b[0mstrcol\u001b[0m\u001b[1;33m<\u001b[0m\u001b[0mendcol\u001b[0m \u001b[1;33m:\u001b[0m\u001b[1;33m\u001b[0m\u001b[1;33m\u001b[0m\u001b[0m\n\u001b[0;32m     11\u001b[0m     \u001b[1;32mfor\u001b[0m \u001b[0mj\u001b[0m \u001b[1;32min\u001b[0m \u001b[0mrange\u001b[0m\u001b[1;33m(\u001b[0m\u001b[0mstrcol\u001b[0m\u001b[1;33m,\u001b[0m\u001b[0mendcol\u001b[0m\u001b[1;33m+\u001b[0m\u001b[1;36m1\u001b[0m\u001b[1;33m)\u001b[0m\u001b[1;33m:\u001b[0m\u001b[1;33m\u001b[0m\u001b[1;33m\u001b[0m\u001b[0m\n\u001b[1;32m---> 12\u001b[1;33m         \u001b[0mprint\u001b[0m\u001b[1;33m(\u001b[0m\u001b[0ml1\u001b[0m\u001b[1;33m[\u001b[0m\u001b[0mstrow\u001b[0m\u001b[1;33m]\u001b[0m\u001b[1;33m[\u001b[0m\u001b[0mi\u001b[0m\u001b[1;33m]\u001b[0m\u001b[1;33m,\u001b[0m\u001b[0mend\u001b[0m\u001b[1;33m=\u001b[0m\u001b[1;34m\" \"\u001b[0m\u001b[1;33m)\u001b[0m\u001b[1;33m\u001b[0m\u001b[1;33m\u001b[0m\u001b[0m\n\u001b[0m\u001b[0;32m     13\u001b[0m         \u001b[0mstrow\u001b[0m\u001b[1;33m+=\u001b[0m\u001b[1;36m1\u001b[0m\u001b[1;33m\u001b[0m\u001b[1;33m\u001b[0m\u001b[0m\n\u001b[0;32m     14\u001b[0m     \u001b[1;32mfor\u001b[0m \u001b[0mi\u001b[0m \u001b[1;32min\u001b[0m \u001b[0mrange\u001b[0m\u001b[1;33m(\u001b[0m\u001b[0mstrrow\u001b[0m\u001b[1;33m,\u001b[0m\u001b[0mendrow\u001b[0m\u001b[1;33m+\u001b[0m\u001b[1;36m1\u001b[0m\u001b[1;33m)\u001b[0m\u001b[1;33m:\u001b[0m\u001b[1;33m\u001b[0m\u001b[1;33m\u001b[0m\u001b[0m\n",
      "\u001b[1;31mIndexError\u001b[0m: list index out of range"
     ]
    }
   ],
   "source": [
    "st=input().strip().split(\" \")\n",
    "n=int(st[0])\n",
    "m=int(st[1])\n",
    "l=[int(i) for i in st[2:]]\n",
    "l1=[[l[i*m+j]for j in range(m)]for i in range(n)]\n",
    "strrow=0\n",
    "strcol=0\n",
    "endrow=n-1\n",
    "endcol=m-1\n",
    "while strrow<endrow and strcol<endcol :\n",
    "    for j in range(strcol,endcol+1):\n",
    "        print(l1[strow][i],end=\" \")\n",
    "        strow+=1\n",
    "    for i in range(strrow,endrow+1):\n",
    "        print(l1[i][endcol],end=\" \")\n",
    "        endcol-=1\n",
    "    if(endrow>strrow):\n",
    "        for j in range(endcol-1,strcol-1,-1):\n",
    "             print(l1[endrow][j],end=\" \")\n",
    "             endrow-=1\n",
    "    if endcol>strcol:\n",
    "        for i in range(endrow-1,strrow-1,-1):\n",
    "            print(l1[i][strcol],end=\" \")\n",
    "            strcol+=1;"
   ]
  }
 ],
 "metadata": {
  "kernelspec": {
   "display_name": "Python 3",
   "language": "python",
   "name": "python3"
  },
  "language_info": {
   "codemirror_mode": {
    "name": "ipython",
    "version": 3
   },
   "file_extension": ".py",
   "mimetype": "text/x-python",
   "name": "python",
   "nbconvert_exporter": "python",
   "pygments_lexer": "ipython3",
   "version": "3.7.1"
  }
 },
 "nbformat": 4,
 "nbformat_minor": 2
}
