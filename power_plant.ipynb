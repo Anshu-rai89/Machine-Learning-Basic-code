{
 "cells": [
  {
   "cell_type": "code",
   "execution_count": 1,
   "metadata": {},
   "outputs": [],
   "source": [
    "import numpy as np\n",
    "from sklearn import preprocessing\n",
    "import pandas as pd"
   ]
  },
  {
   "cell_type": "code",
   "execution_count": 28,
   "metadata": {},
   "outputs": [
    {
     "name": "stdout",
     "output_type": "stream",
     "text": [
      "(7176, 5)\n",
      "(2392, 4)\n",
      "[[   8.58   38.38 1021.03   84.37]\n",
      " [  21.79   58.2  1017.21   66.74]\n",
      " [  16.64   48.92 1011.55   78.76]\n",
      " ...\n",
      " [  29.8    69.34 1009.36   64.74]\n",
      " [  16.37   54.3  1017.94   63.63]\n",
      " [  30.11   62.04 1010.69   47.96]]\n"
     ]
    }
   ],
   "source": [
    "train_data=np.genfromtxt(\"power_plant_train.csv\",delimiter=\",\")\n",
    "test_data=np.genfromtxt(\"power_plant_test.csv\",delimiter=\",\")\n",
    "print(train_data.shape)\n",
    "print(test_data.shape)\n",
    "x_train=train_data[:,:4]\n",
    "y_train=train_data[:,4:]\n",
    "x_test=test_data[:,:]\n",
    "#x_train=np.append(x_train,np.ones((x_train.shape[0],1)),axis=1)\n",
    "#x_test=np.append(x_test,np.ones((x_test.shape[0],1)),axis=1)\n",
    "print(x_train)\n",
    "\n",
    "\n",
    "\n"
   ]
  },
  {
   "cell_type": "code",
   "execution_count": 29,
   "metadata": {},
   "outputs": [
    {
     "name": "stdout",
     "output_type": "stream",
     "text": [
      "[[-1.47827466e+00 -1.24764165e+00  1.30221067e+00  7.58624590e-01\n",
      "   1.00000000e+00]\n",
      " [ 2.89012041e-01  3.06797549e-01  6.61749044e-01 -4.46921842e-01\n",
      "   1.00000000e+00]\n",
      " [-3.99975582e-01 -4.21012529e-01 -2.87207194e-01  3.75010552e-01\n",
      "   1.00000000e+00]\n",
      " ...\n",
      " [ 1.36062192e+00  1.18048335e+00 -6.54382840e-01 -5.83682640e-01\n",
      "   1.00000000e+00]\n",
      " [-4.36097263e-01  9.29089763e-04  7.84140927e-01 -6.59584883e-01\n",
      "   1.00000000e+00]\n",
      " [ 1.40209496e+00  6.07960340e-01 -4.31394890e-01 -1.73110573e+00\n",
      "   1.00000000e+00]]\n"
     ]
    }
   ],
   "source": [
    "scaler_x=preprocessing.StandardScaler()\n",
    "scaler_x.fit(x_train)\n",
    "x_train=scaler_x.transform(x_train)\n",
    "x_test=scaler_x.transform(x_test)\n",
    "\n",
    "x_train=np.append(x_train,np.ones((x_train.shape[0],1)),axis=1)\n",
    "x_test=np.append(x_test,np.ones((x_test.shape[0],1)),axis=1)\n",
    "print(x_train)"
   ]
  },
  {
   "cell_type": "code",
   "execution_count": 30,
   "metadata": {},
   "outputs": [],
   "source": [
    "def sgd(x_train,y_train,learning_rate,m):\n",
    "    m_slope=np.zeros(x_train.shape[1])\n",
    "    n=len(x_train)\n",
    "    for i in range(n):\n",
    "        x=x_train[i]\n",
    "        y=y_train[i]\n",
    "        ans=0\n",
    "        for k in range(x_train.shape[1]):\n",
    "            ans+=m[k]*x[k] \n",
    "        for j in range(x_train.shape[1]):\n",
    "            m_slope[j]+=(-2/n)*(y-ans)*x[j]\n",
    "    new_m=m-learning_rate*m_slope\n",
    "    return new_m"
   ]
  },
  {
   "cell_type": "code",
   "execution_count": 31,
   "metadata": {},
   "outputs": [],
   "source": [
    "def gd(x_train,y_train,learning_rate,iterations):\n",
    "    m=np.zeros(x_train.shape[1])\n",
    "    for i in range(iterations):\n",
    "        m=sgd(x_train,y_train,learning_rate,m)\n",
    "        if(i%10==0):\n",
    "            print(i,\"cost is \",cost(x_train,y_train,m))\n",
    "    return m"
   ]
  },
  {
   "cell_type": "code",
   "execution_count": 32,
   "metadata": {},
   "outputs": [],
   "source": [
    "def cost(x_train,y_train, m):\n",
    "    total_cost = 0\n",
    "    M = len(x_train)\n",
    "    for i in range(M):\n",
    "        x = x_train[i]\n",
    "        y = y_train[i]\n",
    "        total_cost+= (1/M)*((y - (m*x).sum())**2)\n",
    "\n",
    "    return total_cost"
   ]
  },
  {
   "cell_type": "code",
   "execution_count": 33,
   "metadata": {},
   "outputs": [],
   "source": [
    "def run():\n",
    "    learning_rate=0.1\n",
    "    iterations=500\n",
    "    m=gd(x_train,y_train,learning_rate,iterations)\n",
    "\n",
    "    return m"
   ]
  },
  {
   "cell_type": "code",
   "execution_count": 35,
   "metadata": {},
   "outputs": [
    {
     "name": "stdout",
     "output_type": "stream",
     "text": [
      "0 cost is  [132273.17028198]\n",
      "10 cost is  [1552.76219376]\n",
      "20 cost is  [43.19370474]\n",
      "30 cost is  [24.17601062]\n",
      "40 cost is  [22.93725513]\n",
      "50 cost is  [22.25217118]\n",
      "60 cost is  [21.80013752]\n",
      "70 cost is  [21.50059001]\n",
      "80 cost is  [21.3020477]\n",
      "90 cost is  [21.17044917]\n",
      "100 cost is  [21.08322227]\n",
      "110 cost is  [21.02540598]\n",
      "120 cost is  [20.98708383]\n",
      "130 cost is  [20.9616829]\n",
      "140 cost is  [20.9448465]\n",
      "150 cost is  [20.93368689]\n",
      "160 cost is  [20.92629001]\n",
      "170 cost is  [20.92138716]\n",
      "180 cost is  [20.91813742]\n",
      "190 cost is  [20.91598341]\n",
      "200 cost is  [20.91455568]\n",
      "210 cost is  [20.91360933]\n",
      "220 cost is  [20.91298208]\n",
      "230 cost is  [20.91256631]\n",
      "240 cost is  [20.91229073]\n",
      "250 cost is  [20.91210807]\n",
      "260 cost is  [20.911987]\n",
      "270 cost is  [20.91190675]\n",
      "280 cost is  [20.91185356]\n",
      "290 cost is  [20.9118183]\n",
      "300 cost is  [20.91179493]\n",
      "310 cost is  [20.91177944]\n",
      "320 cost is  [20.91176917]\n",
      "330 cost is  [20.91176237]\n",
      "340 cost is  [20.91175786]\n",
      "350 cost is  [20.91175487]\n",
      "360 cost is  [20.91175289]\n",
      "370 cost is  [20.91175157]\n",
      "380 cost is  [20.9117507]\n",
      "390 cost is  [20.91175012]\n",
      "400 cost is  [20.91174974]\n",
      "410 cost is  [20.91174949]\n",
      "420 cost is  [20.91174932]\n",
      "430 cost is  [20.91174921]\n",
      "440 cost is  [20.91174914]\n",
      "450 cost is  [20.91174909]\n",
      "460 cost is  [20.91174905]\n",
      "470 cost is  [20.91174903]\n",
      "480 cost is  [20.91174902]\n",
      "490 cost is  [20.91174901]\n",
      "[-1.49024562e+01 -2.89448038e+00  3.49790805e-01 -2.34221265e+00\n",
      "  4.54431293e+02]\n",
      "y shape is (2392,)\n"
     ]
    }
   ],
   "source": [
    "m=run()\n",
    "print(m)\n",
    "n=len(x_test)\n",
    "y=np.zeros(n)\n",
    "print(\"y shape is\",y.shape)\n",
    "for i in range(n):\n",
    "    x=x_test[i]\n",
    "    y[i]=(m*x).sum()\n",
    "finalans=y\n",
    "np.savetxt(\"power_plant_prediction.csv\", finalans,delimiter = \",\",fmt='%1.5f')\n"
   ]
  }
 ],
 "metadata": {
  "kernelspec": {
   "display_name": "Python 3",
   "language": "python",
   "name": "python3"
  },
  "language_info": {
   "codemirror_mode": {
    "name": "ipython",
    "version": 3
   },
   "file_extension": ".py",
   "mimetype": "text/x-python",
   "name": "python",
   "nbconvert_exporter": "python",
   "pygments_lexer": "ipython3",
   "version": "3.7.1"
  }
 },
 "nbformat": 4,
 "nbformat_minor": 2
}
