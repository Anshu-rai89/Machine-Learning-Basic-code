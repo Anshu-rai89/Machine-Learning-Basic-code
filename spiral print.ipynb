{
 "cells": [
  {
   "cell_type": "code",
   "execution_count": 3,
   "metadata": {},
   "outputs": [
    {
     "name": "stdout",
     "output_type": "stream",
     "text": [
      "3 3 1 2 3 4 5 6 7 8 9\n",
      "1 2 3 6 9 8 7 4 5 "
     ]
    }
   ],
   "source": [
    "def spiral(n,m,l1) :\n",
    "    k,l=0,0\n",
    "    while k<n and l<m :\n",
    "        for i in range(l,m) :\n",
    "            print(l1[k][i],end=\" \")\n",
    "        k+=1\n",
    "        for j in range(k,n):\n",
    "            print(l1[j][m-1],end=\" \")\n",
    "        m=m-1;\n",
    "        if k<n :\n",
    "            for i in range(m-1,(l-1),-1):\n",
    "                print(l1[n-1][i],end=\" \")\n",
    "            n=n-1\n",
    "        if l<m :\n",
    "            for j in range(n-1,(k-1),-1):\n",
    "                print(l1[j][l],end=\" \")\n",
    "            l+=1\n",
    "\n",
    "st=input().strip().split(\" \")\n",
    "n=int(st[0])\n",
    "m=int(st[1])\n",
    "l=[int(i) for i in st[2:]]\n",
    "l1=[[l[i*m+j] for j in range(m)] for i in range(n)]\n",
    "spiral(n,m,l1)"
   ]
  },
  {
   "cell_type": "code",
   "execution_count": null,
   "metadata": {},
   "outputs": [],
   "source": []
  }
 ],
 "metadata": {
  "kernelspec": {
   "display_name": "Python 3",
   "language": "python",
   "name": "python3"
  },
  "language_info": {
   "codemirror_mode": {
    "name": "ipython",
    "version": 3
   },
   "file_extension": ".py",
   "mimetype": "text/x-python",
   "name": "python",
   "nbconvert_exporter": "python",
   "pygments_lexer": "ipython3",
   "version": "3.7.1"
  }
 },
 "nbformat": 4,
 "nbformat_minor": 2
}
