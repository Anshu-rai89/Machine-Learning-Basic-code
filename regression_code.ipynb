{
 "cells": [
  {
   "cell_type": "code",
   "execution_count": 1,
   "metadata": {},
   "outputs": [],
   "source": [
    "import numpy as np"
   ]
  },
  {
   "cell_type": "code",
   "execution_count": 4,
   "metadata": {},
   "outputs": [
    {
     "name": "stdout",
     "output_type": "stream",
     "text": [
      "(331, 1)\n",
      "(331, 1)\n"
     ]
    }
   ],
   "source": [
    "data=np.genfromtxt('0000000000002329_training_diabetes_x_y_train.csv',delimiter=',')\n",
    "x_train=data[: ,:1]\n",
    "y_train=data[:,10:11]\n",
    "test_data=np.genfromtxt('x_test.csv',delimiter=',')\n",
    "x_test=test_data\n",
    "print(x_train.shape)\n",
    "print(y_train.shape)"
   ]
  },
  {
   "cell_type": "code",
   "execution_count": 6,
   "metadata": {},
   "outputs": [],
   "source": [
    "def fit(x,y) :\n",
    "    num=(x*y).mean()-x.mean()*y.mean()\n",
    "    den=(x**2).mean()-(x.mean())**2\n",
    "    m=num/den\n",
    "    c=y.mean()-m*x.mean()\n",
    "    return m,c\n",
    "def predict(x,m,c):\n",
    "    return m*x+c\n",
    "def score(y_pred,y):\n",
    "    u=((y-y_pred)**2).sum()\n",
    "    v=((y-y.mean())**2).sum()\n",
    "    return (1-u/v)\n",
    "def cost(x,y,m,c):\n",
    "    return ((y-(m*x+c))**2).mean()"
   ]
  },
  {
   "cell_type": "code",
   "execution_count": 22,
   "metadata": {},
   "outputs": [
    {
     "name": "stdout",
     "output_type": "stream",
     "text": [
      "0.023211654156072736\n"
     ]
    }
   ],
   "source": [
    "m,c=fit(x_train,y_train)\n",
    "y_pred=predict(x_train,m,c)\n",
    "print(score(y_pred,y_train))"
   ]
  },
  {
   "cell_type": "code",
   "execution_count": 11,
   "metadata": {},
   "outputs": [],
   "source": [
    "from matplotlib import pyplot as plt"
   ]
  },
  {
   "cell_type": "code",
   "execution_count": 21,
   "metadata": {},
   "outputs": [
    {
     "data": {
      "image/png": "[encoded data removed]",
      "text/plain": [
       "<Figure size 432x288 with 1 Axes>"
      ]
     },
     "metadata": {
      "needs_background": "light"
     },
     "output_type": "display_data"
    }
   ],
   "source": [
    "\n",
    "plt.plot(y_train,y_pred,\"bo\")\n",
    "plt.show()"
   ]
  }
 ],
 "metadata": {
  "kernelspec": {
   "display_name": "Python 3",
   "language": "python",
   "name": "python3"
  },
  "language_info": {
   "codemirror_mode": {
    "name": "ipython",
    "version": 3
   },
   "file_extension": ".py",
   "mimetype": "text/x-python",
   "name": "python",
   "nbconvert_exporter": "python",
   "pygments_lexer": "ipython3",
   "version": "3.7.1"
  }
 },
 "nbformat": 4,
 "nbformat_minor": 2
}
