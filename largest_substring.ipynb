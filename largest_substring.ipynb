{
 "cells": [
  {
   "cell_type": "code",
   "execution_count": 1,
   "metadata": {},
   "outputs": [
    {
     "name": "stdout",
     "output_type": "stream",
     "text": [
      "abcdabceb\n",
      "dabce\n"
     ]
    }
   ],
   "source": [
    "def substring(s):\n",
    "    if not s:\n",
    "        return none\n",
    "    start=0\n",
    "    end=0\n",
    "    longest=''\n",
    "    char_set=set()\n",
    "    while end<len(s):\n",
    "        end+=1\n",
    "        cur_char=s[end-1]\n",
    "        if cur_char not in char_set:\n",
    "            char_set.add(cur_char)\n",
    "            if end - start > len(longest):\n",
    "                longest=s[start:end]\n",
    "            continue\n",
    "        while start<end-1:\n",
    "            if s[start]!=cur_char:\n",
    "                char_set.remove(s[start])\n",
    "                start+=1\n",
    "            else:\n",
    "                start+=1\n",
    "                break\n",
    "    return longest\n",
    "\n",
    "s=input()\n",
    "a=substring(s)\n",
    "print(a)"
   ]
  }
 ],
 "metadata": {
  "kernelspec": {
   "display_name": "Python 3",
   "language": "python",
   "name": "python3"
  },
  "language_info": {
   "codemirror_mode": {
    "name": "ipython",
    "version": 3
   },
   "file_extension": ".py",
   "mimetype": "text/x-python",
   "name": "python",
   "nbconvert_exporter": "python",
   "pygments_lexer": "ipython3",
   "version": "3.7.1"
  }
 },
 "nbformat": 4,
 "nbformat_minor": 2
}
