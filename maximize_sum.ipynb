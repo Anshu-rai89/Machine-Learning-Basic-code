{
 "cells": [
  {
   "cell_type": "code",
   "execution_count": 3,
   "metadata": {},
   "outputs": [
    {
     "name": "stdout",
     "output_type": "stream",
     "text": [
      "5\n",
      "4 5 10 15 20\n",
      "6\n",
      "2 5 6 20 25 30\n",
      "109\n"
     ]
    }
   ],
   "source": [
    "def maxsum(l1,l2,n1,n2):\n",
    "    i,j,sum1,sum2,maxsum=0,0,0,0,0\n",
    "    while i<n1 and j<n2 :\n",
    "        if l1[i]<l2[j]:\n",
    "            sum1+=l1[i]\n",
    "            i+=1\n",
    "        elif l1[i]>l2[j] :\n",
    "            sum2+=l2[j]\n",
    "            j+=1\n",
    "        else :\n",
    "            sum1+=l1[i]\n",
    "            sum2+=l2[j]\n",
    "            i+=1\n",
    "            j+=1\n",
    "            maxsum+=max(sum1,sum2)\n",
    "            sum1=0\n",
    "            sum2=0\n",
    "    while i<n1 :\n",
    "        sum1+=l1[i]\n",
    "        i+=1\n",
    "    while  j<n2 :\n",
    "        sum2+=l2[j]\n",
    "        j+=1\n",
    "    maxsum+=max(sum1,sum2)\n",
    "    print(maxsum)\n",
    "n1=int(input())\n",
    "l1=[int(x) for x in input().strip().split(\" \")]\n",
    "n2=int(input())\n",
    "l2=[int(x) for x in input().strip().split(\" \")]\n",
    "maxsum(l1,l2,n1,n2)\n",
    "      "
   ]
  }
 ],
 "metadata": {
  "kernelspec": {
   "display_name": "Python 3",
   "language": "python",
   "name": "python3"
  },
  "language_info": {
   "codemirror_mode": {
    "name": "ipython",
    "version": 3
   },
   "file_extension": ".py",
   "mimetype": "text/x-python",
   "name": "python",
   "nbconvert_exporter": "python",
   "pygments_lexer": "ipython3",
   "version": "3.7.1"
  }
 },
 "nbformat": 4,
 "nbformat_minor": 2
}
